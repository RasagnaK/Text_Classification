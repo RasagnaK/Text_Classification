{
  "nbformat": 4,
  "nbformat_minor": 0,
  "metadata": {
    "colab": {
      "provenance": []
    },
    "kernelspec": {
      "name": "python3",
      "display_name": "Python 3"
    },
    "language_info": {
      "name": "python"
    }
  },
  "cells": [
    {
      "cell_type": "markdown",
      "source": [
        "Importing Necessary libraries"
      ],
      "metadata": {
        "id": "At7iZTR21mk1"
      }
    },
    {
      "cell_type": "code",
      "execution_count": null,
      "metadata": {
        "id": "pdCTSnHXtape"
      },
      "outputs": [],
      "source": [
        "%matplotlib inline\n",
        "import numpy as np\n",
        "import pandas as pd\n",
        "import matplotlib.pyplot as plt\n",
        "from sklearn.datasets import fetch_20newsgroups\n",
        "from sklearn.model_selection import train_test_split\n",
        "import string\n",
        "from nltk.corpus import stopwords\n",
        "from nltk.tokenize import word_tokenize  #tokenize is used to split the words input- string output- a list of words"
      ]
    },
    {
      "cell_type": "code",
      "source": [
        "!pip install nltk"
      ],
      "metadata": {
        "colab": {
          "base_uri": "https://localhost:8080/"
        },
        "id": "yWnbYnGrt2iZ",
        "outputId": "19300630-6a4b-4ed0-fe2c-4527d6e02c95"
      },
      "execution_count": null,
      "outputs": [
        {
          "output_type": "stream",
          "name": "stdout",
          "text": [
            "Requirement already satisfied: nltk in /usr/local/lib/python3.10/dist-packages (3.8.1)\n",
            "Requirement already satisfied: click in /usr/local/lib/python3.10/dist-packages (from nltk) (8.1.4)\n",
            "Requirement already satisfied: joblib in /usr/local/lib/python3.10/dist-packages (from nltk) (1.3.1)\n",
            "Requirement already satisfied: regex>=2021.8.3 in /usr/local/lib/python3.10/dist-packages (from nltk) (2022.10.31)\n",
            "Requirement already satisfied: tqdm in /usr/local/lib/python3.10/dist-packages (from nltk) (4.65.0)\n"
          ]
        }
      ]
    },
    {
      "cell_type": "markdown",
      "source": [
        "Importing stopwords from nltk library"
      ],
      "metadata": {
        "id": "bZ02KV7F15md"
      }
    },
    {
      "cell_type": "code",
      "source": [
        "import nltk\n",
        "nltk.download('stopwords')"
      ],
      "metadata": {
        "colab": {
          "base_uri": "https://localhost:8080/"
        },
        "id": "_gWHn9-luCII",
        "outputId": "f6be15c0-211f-438f-b145-9a5d4b26d282"
      },
      "execution_count": null,
      "outputs": [
        {
          "output_type": "stream",
          "name": "stderr",
          "text": [
            "[nltk_data] Downloading package stopwords to /root/nltk_data...\n",
            "[nltk_data]   Unzipping corpora/stopwords.zip.\n"
          ]
        },
        {
          "output_type": "execute_result",
          "data": {
            "text/plain": [
              "True"
            ]
          },
          "metadata": {},
          "execution_count": 5
        }
      ]
    },
    {
      "cell_type": "code",
      "source": [
        "newsgroups=fetch_20newsgroups()"
      ],
      "metadata": {
        "id": "-jA_1H-VuE3G"
      },
      "execution_count": null,
      "outputs": []
    },
    {
      "cell_type": "code",
      "source": [
        "newsgroups.target_names  #here the target names are our categories of documents"
      ],
      "metadata": {
        "colab": {
          "base_uri": "https://localhost:8080/"
        },
        "id": "FED8MUsCuMDR",
        "outputId": "ee3dd9f8-8f6a-491f-e582-dcab31c57f77"
      },
      "execution_count": null,
      "outputs": [
        {
          "output_type": "execute_result",
          "data": {
            "text/plain": [
              "['alt.atheism',\n",
              " 'comp.graphics',\n",
              " 'comp.os.ms-windows.misc',\n",
              " 'comp.sys.ibm.pc.hardware',\n",
              " 'comp.sys.mac.hardware',\n",
              " 'comp.windows.x',\n",
              " 'misc.forsale',\n",
              " 'rec.autos',\n",
              " 'rec.motorcycles',\n",
              " 'rec.sport.baseball',\n",
              " 'rec.sport.hockey',\n",
              " 'sci.crypt',\n",
              " 'sci.electronics',\n",
              " 'sci.med',\n",
              " 'sci.space',\n",
              " 'soc.religion.christian',\n",
              " 'talk.politics.guns',\n",
              " 'talk.politics.mideast',\n",
              " 'talk.politics.misc',\n",
              " 'talk.religion.misc']"
            ]
          },
          "metadata": {},
          "execution_count": 7
        }
      ]
    },
    {
      "cell_type": "code",
      "source": [
        "#Storing stopwords of english language\n",
        "stop_words=set(stopwords.words('english'))"
      ],
      "metadata": {
        "id": "GUBiW4E9uTug"
      },
      "execution_count": null,
      "outputs": []
    },
    {
      "cell_type": "code",
      "source": [
        "# we do not require punctuations also,so we add them to stop_words\n",
        "punc=list(string.punctuation)"
      ],
      "metadata": {
        "id": "PCWuGxMquasl"
      },
      "execution_count": null,
      "outputs": []
    },
    {
      "cell_type": "code",
      "source": [
        "stop_words.update(punc)   #and update them with the list of stop_words"
      ],
      "metadata": {
        "id": "bfgejhHAu3DO"
      },
      "execution_count": null,
      "outputs": []
    },
    {
      "cell_type": "code",
      "source": [
        "#There is a chance of extra stopwords other than this,so we add them also by observing documents of each categories.\n",
        "new_stop_words = ['x','y','your','yours''yourself','yourselves','you','yond','yonder','yon','ye','yet','z','zillion','usually','us','username',\n",
        "'upon','up','unto','until','unless','unlike','more''most','other','some','such','no','nor','not','only','own','same','so','from',\n",
        "'than','what','for','about','miss','any','over','his','her','with','did','something','someone','else','that','why','when','where','this','into',\n",
        "'every','one','are','therefore','then'\n",
        "'too','onto','will','how','able','the','just','never','because','out','should','would','could','can',\n",
        "'very','high','come','initial','anything','from','first','enough','were','their','might','make','have',\n",
        "'has','had','was','most','without','the','who','thought','either','also','three','thus'\n",
        "'otherwise','ourselves','anyone','overall','accordingly','among','already','available','beyond','lovely',\n",
        "'may','notice','well','like','now','two','maybe','not','being','give','which'\n",
        "\n",
        "]\n"
      ],
      "metadata": {
        "id": "KSOUA3rfvMwC"
      },
      "execution_count": null,
      "outputs": []
    },
    {
      "cell_type": "code",
      "source": [
        "#Updating initial stopwords with added ones\n",
        "stop_words.update(new_stop_words)"
      ],
      "metadata": {
        "id": "X10Xn5ReXDPf"
      },
      "execution_count": null,
      "outputs": []
    },
    {
      "cell_type": "code",
      "source": [
        "len(stop_words)"
      ],
      "metadata": {
        "colab": {
          "base_uri": "https://localhost:8080/"
        },
        "id": "Qi0mdcSSnZJx",
        "outputId": "f8dce571-119f-4b6b-f1d5-59a03f8a736c"
      },
      "execution_count": null,
      "outputs": [
        {
          "output_type": "execute_result",
          "data": {
            "text/plain": [
              "271"
            ]
          },
          "metadata": {},
          "execution_count": 13
        }
      ]
    },
    {
      "cell_type": "code",
      "source": [
        "len(newsgroups.data)"
      ],
      "metadata": {
        "colab": {
          "base_uri": "https://localhost:8080/"
        },
        "id": "L3ABqa8Xnb38",
        "outputId": "56357e9a-903d-446d-e4dc-1942904dd588"
      },
      "execution_count": null,
      "outputs": [
        {
          "output_type": "execute_result",
          "data": {
            "text/plain": [
              "11314"
            ]
          },
          "metadata": {},
          "execution_count": 14
        }
      ]
    },
    {
      "cell_type": "code",
      "source": [
        "set(newsgroups.target)   #category numbers for newsgroups"
      ],
      "metadata": {
        "colab": {
          "base_uri": "https://localhost:8080/"
        },
        "id": "CJiipM4knmiu",
        "outputId": "dc1a9b43-75de-423a-8f8c-36b48117f5b9"
      },
      "execution_count": null,
      "outputs": [
        {
          "output_type": "execute_result",
          "data": {
            "text/plain": [
              "{0, 1, 2, 3, 4, 5, 6, 7, 8, 9, 10, 11, 12, 13, 14, 15, 16, 17, 18, 19}"
            ]
          },
          "metadata": {},
          "execution_count": 15
        }
      ]
    },
    {
      "cell_type": "code",
      "source": [
        "set(newsgroups.target_names)"
      ],
      "metadata": {
        "colab": {
          "base_uri": "https://localhost:8080/"
        },
        "id": "yIPlb0K2n9Rf",
        "outputId": "6c51a817-5993-4cfb-e369-dab14ccd0f40"
      },
      "execution_count": null,
      "outputs": [
        {
          "output_type": "execute_result",
          "data": {
            "text/plain": [
              "{'alt.atheism',\n",
              " 'comp.graphics',\n",
              " 'comp.os.ms-windows.misc',\n",
              " 'comp.sys.ibm.pc.hardware',\n",
              " 'comp.sys.mac.hardware',\n",
              " 'comp.windows.x',\n",
              " 'misc.forsale',\n",
              " 'rec.autos',\n",
              " 'rec.motorcycles',\n",
              " 'rec.sport.baseball',\n",
              " 'rec.sport.hockey',\n",
              " 'sci.crypt',\n",
              " 'sci.electronics',\n",
              " 'sci.med',\n",
              " 'sci.space',\n",
              " 'soc.religion.christian',\n",
              " 'talk.politics.guns',\n",
              " 'talk.politics.mideast',\n",
              " 'talk.politics.misc',\n",
              " 'talk.religion.misc'}"
            ]
          },
          "metadata": {},
          "execution_count": 16
        }
      ]
    },
    {
      "cell_type": "code",
      "source": [
        "all_docs=newsgroups.data #storing data of documents in all_docs\n",
        "all_categories=newsgroups.target #Storing categories in all_categories"
      ],
      "metadata": {
        "id": "VpavtMCnoINX"
      },
      "execution_count": null,
      "outputs": []
    },
    {
      "cell_type": "code",
      "source": [
        "import nltk\n",
        "nltk.download('punkt')"
      ],
      "metadata": {
        "id": "IXTo9XlhZrJG"
      },
      "execution_count": null,
      "outputs": []
    },
    {
      "cell_type": "code",
      "source": [
        "split_docs=[word_tokenize(doc) for doc in all_docs]   #word_tockenize is used to split the words in a document"
      ],
      "metadata": {
        "id": "7abjRhvoobll"
      },
      "execution_count": null,
      "outputs": []
    },
    {
      "cell_type": "code",
      "source": [
        "xtrain,xtest,ytrain,ytest=train_test_split(split_docs,all_categories,random_state=42)"
      ],
      "metadata": {
        "id": "nwLBdGERqBK0"
      },
      "execution_count": null,
      "outputs": []
    },
    {
      "cell_type": "code",
      "source": [
        "#Creation of Vocabulary of words"
      ],
      "metadata": {
        "id": "7908S8O3tAdu"
      },
      "execution_count": null,
      "outputs": []
    },
    {
      "cell_type": "code",
      "source": [
        "all_words=[]\n",
        "\n",
        "for doc in xtrain:\n",
        "  for word in doc:\n",
        "    if(word.lower() not in stop_words and len(word)!=1 and len(word)!=2 and word[0]!=\"'\" and word[0]!='.' and word!=\"n't\"):\n",
        "      all_words.append(word)"
      ],
      "metadata": {
        "id": "s7C2fp5irX9f"
      },
      "execution_count": null,
      "outputs": []
    },
    {
      "cell_type": "code",
      "source": [
        "len(all_words)"
      ],
      "metadata": {
        "colab": {
          "base_uri": "https://localhost:8080/"
        },
        "id": "0qRCGnmisaJ6",
        "outputId": "e1c6eb32-9d95-4c2f-b830-75e388f0b7ab"
      },
      "execution_count": null,
      "outputs": [
        {
          "output_type": "execute_result",
          "data": {
            "text/plain": [
              "1335326"
            ]
          },
          "metadata": {},
          "execution_count": 23
        }
      ]
    },
    {
      "cell_type": "code",
      "source": [
        "#Creating a dictionary with the vocabulary with keys as words and values as frequency"
      ],
      "metadata": {
        "id": "cQ_x-OiusuRm"
      },
      "execution_count": null,
      "outputs": []
    },
    {
      "cell_type": "code",
      "source": [
        "def freq(all_words):\n",
        "  dic={}\n",
        "\n",
        "  for word in all_words:\n",
        "    if word in dic:\n",
        "      dic[word]+=1\n",
        "    else:\n",
        "      dic[word]=1\n",
        "  return dic\n",
        "\n",
        "dic=freq(all_words)"
      ],
      "metadata": {
        "id": "foiPuis_tL-0"
      },
      "execution_count": null,
      "outputs": []
    },
    {
      "cell_type": "code",
      "source": [
        "len(dic)"
      ],
      "metadata": {
        "colab": {
          "base_uri": "https://localhost:8080/"
        },
        "id": "-9bbKMC2t38-",
        "outputId": "7145e1f8-949d-4811-9391-30381b40fcd6"
      },
      "execution_count": null,
      "outputs": [
        {
          "output_type": "execute_result",
          "data": {
            "text/plain": [
              "170986"
            ]
          },
          "metadata": {},
          "execution_count": 25
        }
      ]
    },
    {
      "cell_type": "code",
      "source": [
        "#to plot the values of a dictionary,we need to get them to separate variables....so splitting them up"
      ],
      "metadata": {
        "id": "H0b6PCbzuBup"
      },
      "execution_count": null,
      "outputs": []
    },
    {
      "cell_type": "code",
      "source": [
        "freq=np.array([i for i in dic.values()])\n",
        "words=np.array([i for i in dic.keys()])"
      ],
      "metadata": {
        "id": "EWPM4rPFuQo_"
      },
      "execution_count": null,
      "outputs": []
    },
    {
      "cell_type": "code",
      "source": [
        "words=words[np.argsort(freq)][::-1]  #Sorting words in terms of decreasing frequency\n",
        "freq=np.sort(freq)[::-1]"
      ],
      "metadata": {
        "id": "6QVIdGHWuhi8"
      },
      "execution_count": null,
      "outputs": []
    },
    {
      "cell_type": "code",
      "source": [
        "lower_limit=0    #default\n",
        "upper_limit=3000    #default\n",
        "difference_between_each_xtick=50\n",
        "#adjusting size of the graph for more clarity.\n",
        "plt.figure(figsize=(20, 7))\n",
        "#plotting\n",
        "plt.plot(np.arange(len(freq))[lower_limit:upper_limit], freq[lower_limit:upper_limit],'g')\n",
        "#labelling\n",
        "plt.xlabel('Words(\"nth word\")')\n",
        "plt.ylabel(\"Frequency\")\n",
        "#adjusting the xticks\n",
        "plt.xticks(np.arange(lower_limit, upper_limit, 50), rotation=45)\n",
        "plt.grid()\n",
        "plt.show()"
      ],
      "metadata": {
        "colab": {
          "base_uri": "https://localhost:8080/",
          "height": 556
        },
        "id": "bxKRxwgIzscg",
        "outputId": "105aa037-fdd3-466e-d978-b3d32cc492aa"
      },
      "execution_count": 77,
      "outputs": [
        {
          "output_type": "display_data",
          "data": {
            "text/plain": [
              "<Figure size 2000x700 with 1 Axes>"
            ],
            "image/png": "[encoded data removed]"
          },
          "metadata": {}
        }
      ]
    },
    {
      "cell_type": "code",
      "source": [
        "len(words)"
      ],
      "metadata": {
        "colab": {
          "base_uri": "https://localhost:8080/"
        },
        "id": "Et7aGbw63arJ",
        "outputId": "a53b3fc0-24d5-40eb-c1bb-8fb5784dcccf"
      },
      "execution_count": null,
      "outputs": [
        {
          "output_type": "execute_result",
          "data": {
            "text/plain": [
              "170986"
            ]
          },
          "metadata": {},
          "execution_count": 29
        }
      ]
    },
    {
      "cell_type": "code",
      "source": [
        "features=words[20:1000]"
      ],
      "metadata": {
        "id": "nl14tsWu3s4f"
      },
      "execution_count": null,
      "outputs": []
    },
    {
      "cell_type": "code",
      "source": [
        "len(features)"
      ],
      "metadata": {
        "colab": {
          "base_uri": "https://localhost:8080/"
        },
        "id": "M7VKiZOp3y64",
        "outputId": "19d25625-61d2-483e-cd5e-2ab642fc6eaa"
      },
      "execution_count": null,
      "outputs": [
        {
          "output_type": "execute_result",
          "data": {
            "text/plain": [
              "9980"
            ]
          },
          "metadata": {},
          "execution_count": 54
        }
      ]
    },
    {
      "cell_type": "code",
      "source": [
        "freq[20],freq[10000]"
      ],
      "metadata": {
        "colab": {
          "base_uri": "https://localhost:8080/"
        },
        "id": "7He0bTae38vw",
        "outputId": "f8f9d985-c70b-43c0-b5d6-6a7f044b0d18"
      },
      "execution_count": null,
      "outputs": [
        {
          "output_type": "execute_result",
          "data": {
            "text/plain": [
              "(1923, 17)"
            ]
          },
          "metadata": {},
          "execution_count": 31
        }
      ]
    },
    {
      "cell_type": "code",
      "source": [
        "len(xtrain)"
      ],
      "metadata": {
        "colab": {
          "base_uri": "https://localhost:8080/"
        },
        "id": "RrEJvHzYSyv7",
        "outputId": "fb402208-4087-42a9-88b7-360abe07a9ea"
      },
      "execution_count": null,
      "outputs": [
        {
          "output_type": "execute_result",
          "data": {
            "text/plain": [
              "8485"
            ]
          },
          "metadata": {},
          "execution_count": 32
        }
      ]
    },
    {
      "cell_type": "markdown",
      "source": [
        "Making a 2D Array of docs as rows and features as columns - here features are words"
      ],
      "metadata": {
        "id": "_Lp9ONz03TPv"
      }
    },
    {
      "cell_type": "code",
      "source": [
        "def table(data,features):\n",
        "  table=np.zeros((len(data),len(features)))   #makes a table of features and rows of 0s initially\n",
        "  for i in range(len(data)):\n",
        "    current_doc=data[i]\n",
        "    d=dict()\n",
        "    for word in current_doc:\n",
        "      if word in d.keys():\n",
        "        d[word]+=1\n",
        "      else:\n",
        "        d[word]=1\n",
        "\n",
        "    for j in range(len(features)):\n",
        "      if features[j] in d.keys():\n",
        "        table[i][j]=d[features[j]]  #filling the row with frequency\n",
        "      else:\n",
        "        continue\n",
        "  return table\n",
        "\n"
      ],
      "metadata": {
        "id": "Rta7umCFbrVs"
      },
      "execution_count": 36,
      "outputs": []
    },
    {
      "cell_type": "code",
      "source": [
        "xtrain_table=table(xtrain,features)"
      ],
      "metadata": {
        "id": "kWIo9JymfS2q"
      },
      "execution_count": 37,
      "outputs": []
    },
    {
      "cell_type": "code",
      "source": [
        "xtest_table=table(xtest,features)"
      ],
      "metadata": {
        "id": "pRalV39chc0Y"
      },
      "execution_count": 44,
      "outputs": []
    },
    {
      "cell_type": "code",
      "source": [
        "xtrain_table.shape"
      ],
      "metadata": {
        "colab": {
          "base_uri": "https://localhost:8080/"
        },
        "id": "wMHGAnelf8IX",
        "outputId": "00754c8e-1a56-4753-970d-fe93cdd1fed7"
      },
      "execution_count": 38,
      "outputs": [
        {
          "output_type": "execute_result",
          "data": {
            "text/plain": [
              "(8485, 9980)"
            ]
          },
          "metadata": {},
          "execution_count": 38
        }
      ]
    },
    {
      "cell_type": "markdown",
      "source": [
        "Implementation of inbuilt Multinomial Naive Byes Classifier\n"
      ],
      "metadata": {
        "id": "lCQwHHnGguOD"
      }
    },
    {
      "cell_type": "code",
      "source": [
        "from sklearn.naive_bayes import MultinomialNB"
      ],
      "metadata": {
        "id": "QFx7YmLIgIFa"
      },
      "execution_count": 39,
      "outputs": []
    },
    {
      "cell_type": "code",
      "source": [
        "model1=MultinomialNB()"
      ],
      "metadata": {
        "id": "jUMYfh7XgUj-"
      },
      "execution_count": 40,
      "outputs": []
    },
    {
      "cell_type": "code",
      "source": [
        "model1.fit(xtrain_table,ytrain)"
      ],
      "metadata": {
        "colab": {
          "base_uri": "https://localhost:8080/",
          "height": 74
        },
        "id": "rPhnBV-1ga0K",
        "outputId": "1ebfca09-2097-44c4-a632-a9be1efa378e"
      },
      "execution_count": 42,
      "outputs": [
        {
          "output_type": "execute_result",
          "data": {
            "text/plain": [
              "MultinomialNB()"
            ],
            "text/html": [
              "<style>#sk-container-id-1 {color: black;background-color: white;}#sk-container-id-1 pre{padding: 0;}#sk-container-id-1 div.sk-toggleable {background-color: white;}#sk-container-id-1 label.sk-toggleable__label {cursor: pointer;display: block;width: 100%;margin-bottom: 0;padding: 0.3em;box-sizing: border-box;text-align: center;}#sk-container-id-1 label.sk-toggleable__label-arrow:before {content: \"▸\";float: left;margin-right: 0.25em;color: #696969;}#sk-container-id-1 label.sk-toggleable__label-arrow:hover:before {color: black;}#sk-container-id-1 div.sk-estimator:hover label.sk-toggleable__label-arrow:before {color: black;}#sk-container-id-1 div.sk-toggleable__content {max-height: 0;max-width: 0;overflow: hidden;text-align: left;background-color: #f0f8ff;}#sk-container-id-1 div.sk-toggleable__content pre {margin: 0.2em;color: black;border-radius: 0.25em;background-color: #f0f8ff;}#sk-container-id-1 input.sk-toggleable__control:checked~div.sk-toggleable__content {max-height: 200px;max-width: 100%;overflow: auto;}#sk-container-id-1 input.sk-toggleable__control:checked~label.sk-toggleable__label-arrow:before {content: \"▾\";}#sk-container-id-1 div.sk-estimator input.sk-toggleable__control:checked~label.sk-toggleable__label {background-color: #d4ebff;}#sk-container-id-1 div.sk-label input.sk-toggleable__control:checked~label.sk-toggleable__label {background-color: #d4ebff;}#sk-container-id-1 input.sk-hidden--visually {border: 0;clip: rect(1px 1px 1px 1px);clip: rect(1px, 1px, 1px, 1px);height: 1px;margin: -1px;overflow: hidden;padding: 0;position: absolute;width: 1px;}#sk-container-id-1 div.sk-estimator {font-family: monospace;background-color: #f0f8ff;border: 1px dotted black;border-radius: 0.25em;box-sizing: border-box;margin-bottom: 0.5em;}#sk-container-id-1 div.sk-estimator:hover {background-color: #d4ebff;}#sk-container-id-1 div.sk-parallel-item::after {content: \"\";width: 100%;border-bottom: 1px solid gray;flex-grow: 1;}#sk-container-id-1 div.sk-label:hover label.sk-toggleable__label {background-color: #d4ebff;}#sk-container-id-1 div.sk-serial::before {content: \"\";position: absolute;border-left: 1px solid gray;box-sizing: border-box;top: 0;bottom: 0;left: 50%;z-index: 0;}#sk-container-id-1 div.sk-serial {display: flex;flex-direction: column;align-items: center;background-color: white;padding-right: 0.2em;padding-left: 0.2em;position: relative;}#sk-container-id-1 div.sk-item {position: relative;z-index: 1;}#sk-container-id-1 div.sk-parallel {display: flex;align-items: stretch;justify-content: center;background-color: white;position: relative;}#sk-container-id-1 div.sk-item::before, #sk-container-id-1 div.sk-parallel-item::before {content: \"\";position: absolute;border-left: 1px solid gray;box-sizing: border-box;top: 0;bottom: 0;left: 50%;z-index: -1;}#sk-container-id-1 div.sk-parallel-item {display: flex;flex-direction: column;z-index: 1;position: relative;background-color: white;}#sk-container-id-1 div.sk-parallel-item:first-child::after {align-self: flex-end;width: 50%;}#sk-container-id-1 div.sk-parallel-item:last-child::after {align-self: flex-start;width: 50%;}#sk-container-id-1 div.sk-parallel-item:only-child::after {width: 0;}#sk-container-id-1 div.sk-dashed-wrapped {border: 1px dashed gray;margin: 0 0.4em 0.5em 0.4em;box-sizing: border-box;padding-bottom: 0.4em;background-color: white;}#sk-container-id-1 div.sk-label label {font-family: monospace;font-weight: bold;display: inline-block;line-height: 1.2em;}#sk-container-id-1 div.sk-label-container {text-align: center;}#sk-container-id-1 div.sk-container {/* jupyter's `normalize.less` sets `[hidden] { display: none; }` but bootstrap.min.css set `[hidden] { display: none !important; }` so we also need the `!important` here to be able to override the default hidden behavior on the sphinx rendered scikit-learn.org. See: https://github.com/scikit-learn/scikit-learn/issues/21755 */display: inline-block !important;position: relative;}#sk-container-id-1 div.sk-text-repr-fallback {display: none;}</style><div id=\"sk-container-id-1\" class=\"sk-top-container\"><div class=\"sk-text-repr-fallback\"><pre>MultinomialNB()</pre><b>In a Jupyter environment, please rerun this cell to show the HTML representation or trust the notebook. <br />On GitHub, the HTML representation is unable to render, please try loading this page with nbviewer.org.</b></div><div class=\"sk-container\" hidden><div class=\"sk-item\"><div class=\"sk-estimator sk-toggleable\"><input class=\"sk-toggleable__control sk-hidden--visually\" id=\"sk-estimator-id-1\" type=\"checkbox\" checked><label for=\"sk-estimator-id-1\" class=\"sk-toggleable__label sk-toggleable__label-arrow\">MultinomialNB</label><div class=\"sk-toggleable__content\"><pre>MultinomialNB()</pre></div></div></div></div></div>"
            ]
          },
          "metadata": {},
          "execution_count": 42
        }
      ]
    },
    {
      "cell_type": "code",
      "source": [
        "model1.score(xtrain_table,ytrain)"
      ],
      "metadata": {
        "colab": {
          "base_uri": "https://localhost:8080/"
        },
        "id": "lneLLIusgkpz",
        "outputId": "14776bc7-c346-4514-df1b-96fd6e60d843"
      },
      "execution_count": 43,
      "outputs": [
        {
          "output_type": "execute_result",
          "data": {
            "text/plain": [
              "0.9403653506187389"
            ]
          },
          "metadata": {},
          "execution_count": 43
        }
      ]
    },
    {
      "cell_type": "code",
      "source": [
        "model1.score(xtest_table,ytest)"
      ],
      "metadata": {
        "colab": {
          "base_uri": "https://localhost:8080/"
        },
        "id": "951lUwg7gqFI",
        "outputId": "b920a00f-2b12-4089-ac28-276d74d60e7b"
      },
      "execution_count": 45,
      "outputs": [
        {
          "output_type": "execute_result",
          "data": {
            "text/plain": [
              "0.8617886178861789"
            ]
          },
          "metadata": {},
          "execution_count": 45
        }
      ]
    },
    {
      "cell_type": "code",
      "source": [
        "y_prediction=model1.predict(xtest_table)"
      ],
      "metadata": {
        "id": "VD8mGC_M3y7H"
      },
      "execution_count": 69,
      "outputs": []
    },
    {
      "cell_type": "code",
      "source": [
        "for i in confusion_matrix(ytest, y_prediction):\n",
        "    for j in i:\n",
        "        print(j, end=\"  \")\n",
        "    print()"
      ],
      "metadata": {
        "colab": {
          "base_uri": "https://localhost:8080/"
        },
        "id": "41_hE6rQ3302",
        "outputId": "50d22e57-de90-4a94-8a33-809111d8d1ec"
      },
      "execution_count": 74,
      "outputs": [
        {
          "output_type": "stream",
          "name": "stdout",
          "text": [
            "109  0  0  0  0  0  0  0  2  0  0  0  0  0  1  0  1  0  1  3  \n",
            "0  117  3  4  0  9  3  0  1  0  0  0  0  0  1  0  0  0  0  0  \n",
            "0  17  75  33  3  7  6  0  0  0  0  1  0  0  0  0  0  0  0  0  \n",
            "0  8  1  110  10  1  6  0  0  0  0  2  6  0  0  0  0  1  0  0  \n",
            "0  1  0  8  137  0  9  0  0  0  0  0  2  0  0  0  0  0  0  0  \n",
            "0  15  0  2  2  113  0  0  2  0  0  0  1  1  0  0  0  0  0  0  \n",
            "0  0  0  6  5  0  113  6  3  0  0  0  2  0  2  0  0  0  0  0  \n",
            "0  0  0  3  0  0  4  149  5  0  0  0  3  0  0  0  0  0  0  0  \n",
            "0  2  0  0  1  0  3  6  141  1  0  0  0  0  0  0  0  0  0  1  \n",
            "0  0  0  0  1  0  1  1  0  134  2  0  1  0  0  1  0  0  0  0  \n",
            "0  0  0  0  1  1  1  0  1  3  129  0  0  0  0  0  0  0  0  0  \n",
            "0  1  0  1  0  1  0  0  0  1  0  142  0  1  0  0  2  0  7  0  \n",
            "0  5  0  9  4  1  4  2  0  1  0  1  115  0  2  0  0  0  0  0  \n",
            "1  1  0  0  1  1  0  0  1  0  0  0  1  134  4  1  0  0  0  0  \n",
            "0  4  0  0  0  1  0  0  2  0  0  0  1  1  141  1  1  0  0  0  \n",
            "3  1  0  0  0  1  3  0  1  0  0  0  0  0  1  130  1  3  4  2  \n",
            "1  0  0  0  0  0  0  1  1  1  0  0  0  0  0  0  140  0  6  0  \n",
            "1  1  0  3  2  0  1  0  0  0  0  0  0  1  0  1  0  123  2  0  \n",
            "1  0  0  0  0  0  1  1  0  0  0  0  0  0  2  0  4  2  122  4  \n",
            "7  1  0  0  0  0  0  1  1  0  0  0  0  0  2  10  3  1  2  64  \n"
          ]
        }
      ]
    },
    {
      "cell_type": "code",
      "source": [
        "print(classification_report(ytest,y_prediction))"
      ],
      "metadata": {
        "colab": {
          "base_uri": "https://localhost:8080/"
        },
        "id": "HSUNTJgp3_Kx",
        "outputId": "f9166c3d-f972-4adc-959d-e5c1ccd4147d"
      },
      "execution_count": 73,
      "outputs": [
        {
          "output_type": "stream",
          "name": "stdout",
          "text": [
            "              precision    recall  f1-score   support\n",
            "\n",
            "           0       0.89      0.93      0.91       117\n",
            "           1       0.67      0.85      0.75       138\n",
            "           2       0.95      0.53      0.68       142\n",
            "           3       0.61      0.76      0.68       145\n",
            "           4       0.82      0.87      0.85       157\n",
            "           5       0.83      0.83      0.83       136\n",
            "           6       0.73      0.82      0.77       137\n",
            "           7       0.89      0.91      0.90       164\n",
            "           8       0.88      0.91      0.89       155\n",
            "           9       0.95      0.95      0.95       141\n",
            "          10       0.98      0.95      0.97       136\n",
            "          11       0.97      0.91      0.94       156\n",
            "          12       0.87      0.80      0.83       144\n",
            "          13       0.97      0.92      0.95       145\n",
            "          14       0.90      0.93      0.92       152\n",
            "          15       0.90      0.87      0.88       150\n",
            "          16       0.92      0.93      0.93       150\n",
            "          17       0.95      0.91      0.93       135\n",
            "          18       0.85      0.89      0.87       137\n",
            "          19       0.86      0.70      0.77        92\n",
            "\n",
            "    accuracy                           0.86      2829\n",
            "   macro avg       0.87      0.86      0.86      2829\n",
            "weighted avg       0.87      0.86      0.86      2829\n",
            "\n"
          ]
        }
      ]
    },
    {
      "cell_type": "markdown",
      "source": [
        "Building Own Naive_Bayes Classifier"
      ],
      "metadata": {
        "id": "k3XN67Ygmo2k"
      }
    },
    {
      "cell_type": "code",
      "source": [
        "#fit function - returns a dictionary with keys as categories and values as another dictionary which has keys as features and values as frequency\n",
        "\n",
        "def fit(x_train,y_train):\n",
        "  results={}\n",
        "  for i in range(30):\n",
        "    category_docs=x_train[y_train==i]   # contains only the rows with category i\n",
        "    results[i]=dict()   #another dictionary with keys - features and values - frequency\n",
        "    results[i]['total']=0   # total words of category i\n",
        "\n",
        "    for j in range(len(features)):\n",
        "      results[i][features[j]]=category_docs[:,j].sum()\n",
        "      results[i]['total']+=results[i][features[j]]\n",
        "\n",
        "  return results\n"
      ],
      "metadata": {
        "id": "Dn8gujqJmzPz"
      },
      "execution_count": 46,
      "outputs": []
    },
    {
      "cell_type": "code",
      "source": [
        "#Returns the probability of words in each class\n",
        "def probability(results,doc,k):\n",
        "  proba_for_word=[]\n",
        "  for i in range(len(doc)):\n",
        "    if doc[i]!=0:  #not considering the features with 0 frequency\n",
        "      numerator=results[k][features[i]]\n",
        "      denominator=results[k]['total']\n",
        "      proba=np.log((numerator+1)/(denominator+len(doc)))\n",
        "      proba_for_word.append(proba)\n",
        "\n",
        "  return sum(proba_for_word)"
      ],
      "metadata": {
        "id": "R8pzTFLBpbC0"
      },
      "execution_count": 48,
      "outputs": []
    },
    {
      "cell_type": "code",
      "source": [
        "#Predicts the category of documents\n",
        "def predict_singledoc(results,doc):\n",
        "  category=results.keys()\n",
        "  best_probability=-1000\n",
        "  best_class=-1\n",
        "  first_run=True\n",
        "  for k in category:\n",
        "    proba_k =probability(results,doc,k)\n",
        "\n",
        "    if (first_run or proba_k>best_probability):\n",
        "      best_probability=proba_k\n",
        "      best_class=k\n",
        "    first_run=False\n",
        "  return best_class"
      ],
      "metadata": {
        "id": "MWRH3wGIo72o"
      },
      "execution_count": 57,
      "outputs": []
    },
    {
      "cell_type": "code",
      "source": [
        "def predict(x_test,results):\n",
        "  y_pred=[]  #an array of predicted category values\n",
        "  for doc in x_test:\n",
        "    y_pred.append(predict_singledoc(results,doc))\n",
        "  return y_pred"
      ],
      "metadata": {
        "id": "DcX7T7daolEh"
      },
      "execution_count": 50,
      "outputs": []
    },
    {
      "cell_type": "code",
      "source": [
        "results=fit(xtrain_table,ytrain)\n"
      ],
      "metadata": {
        "id": "UHhrsatYwH6a"
      },
      "execution_count": 51,
      "outputs": []
    },
    {
      "cell_type": "code",
      "source": [
        "y_pred=predict(xtest_table,results)"
      ],
      "metadata": {
        "id": "5uvw0oX_wTca"
      },
      "execution_count": 58,
      "outputs": []
    },
    {
      "cell_type": "code",
      "source": [
        "from sklearn.metrics import confusion_matrix\n",
        "from sklearn.metrics import classification_report"
      ],
      "metadata": {
        "id": "hOreXyD-x_jF"
      },
      "execution_count": 54,
      "outputs": []
    },
    {
      "cell_type": "code",
      "source": [
        "for i in confusion_matrix(ytest, y_pred):\n",
        "    for j in i:\n",
        "        print(j, end=\"  \")\n",
        "    print()"
      ],
      "metadata": {
        "colab": {
          "base_uri": "https://localhost:8080/"
        },
        "id": "kKYRVZa70o5t",
        "outputId": "a2d54c20-e466-43a9-b0cb-30dad328c01b"
      },
      "execution_count": 67,
      "outputs": [
        {
          "output_type": "stream",
          "name": "stdout",
          "text": [
            "108  0  0  0  0  0  0  0  2  0  0  1  0  0  0  1  1  0  1  3  \n",
            "0  118  4  7  0  6  1  0  0  0  0  0  0  0  1  0  0  0  1  0  \n",
            "0  18  76  34  5  8  0  0  0  0  0  1  0  0  0  0  0  0  0  0  \n",
            "0  8  0  122  6  0  3  0  0  0  0  1  4  0  0  0  1  0  0  0  \n",
            "0  1  0  17  130  0  5  0  0  0  0  0  4  0  0  0  0  0  0  0  \n",
            "0  19  0  2  3  109  0  1  2  0  0  0  0  0  0  0  0  0  0  0  \n",
            "0  2  0  10  5  0  104  9  3  0  0  1  3  0  0  0  0  0  0  0  \n",
            "0  3  0  2  0  0  4  149  2  0  0  0  4  0  0  0  0  0  0  0  \n",
            "0  3  0  1  0  0  1  8  135  1  0  1  0  0  1  1  2  0  0  1  \n",
            "0  0  0  0  1  0  2  1  0  134  1  0  1  0  0  1  0  0  0  0  \n",
            "0  0  0  0  1  1  1  0  2  1  128  0  0  0  0  0  0  0  1  1  \n",
            "0  1  0  2  0  0  0  0  0  0  0  148  0  0  0  0  4  0  1  0  \n",
            "0  5  0  10  5  1  2  3  0  1  0  2  113  0  1  0  1  0  0  0  \n",
            "0  2  0  0  1  1  0  1  1  0  0  2  2  131  2  2  0  0  0  0  \n",
            "0  5  0  0  1  2  0  0  1  0  0  1  0  2  136  1  0  0  3  0  \n",
            "1  1  0  1  1  1  2  0  0  0  0  0  0  0  0  136  1  3  2  1  \n",
            "1  0  0  1  0  0  0  2  1  1  0  0  0  0  0  0  139  0  5  0  \n",
            "1  1  0  4  1  0  1  1  0  0  0  0  0  0  0  1  0  124  1  0  \n",
            "1  0  0  0  0  0  1  1  0  0  0  0  0  0  2  0  4  2  122  4  \n",
            "6  0  0  1  0  0  0  1  1  0  0  1  0  0  1  13  3  2  4  59  \n"
          ]
        }
      ]
    },
    {
      "cell_type": "code",
      "source": [
        "print(classification_report(ytest,y_pred))"
      ],
      "metadata": {
        "colab": {
          "base_uri": "https://localhost:8080/"
        },
        "id": "o6gDNb6WyZhQ",
        "outputId": "7c27e71b-0aea-4ae4-dcd9-9a794b12cda7"
      },
      "execution_count": 59,
      "outputs": [
        {
          "output_type": "stream",
          "name": "stdout",
          "text": [
            "              precision    recall  f1-score   support\n",
            "\n",
            "           0       0.92      0.92      0.92       117\n",
            "           1       0.63      0.86      0.73       138\n",
            "           2       0.95      0.54      0.68       142\n",
            "           3       0.57      0.84      0.68       145\n",
            "           4       0.81      0.83      0.82       157\n",
            "           5       0.84      0.80      0.82       136\n",
            "           6       0.82      0.76      0.79       137\n",
            "           7       0.84      0.91      0.87       164\n",
            "           8       0.90      0.87      0.89       155\n",
            "           9       0.97      0.95      0.96       141\n",
            "          10       0.99      0.94      0.97       136\n",
            "          11       0.93      0.95      0.94       156\n",
            "          12       0.86      0.78      0.82       144\n",
            "          13       0.98      0.90      0.94       145\n",
            "          14       0.94      0.89      0.92       152\n",
            "          15       0.87      0.91      0.89       150\n",
            "          16       0.89      0.93      0.91       150\n",
            "          17       0.95      0.92      0.93       135\n",
            "          18       0.87      0.89      0.88       137\n",
            "          19       0.86      0.64      0.73        92\n",
            "\n",
            "    accuracy                           0.86      2829\n",
            "   macro avg       0.87      0.85      0.85      2829\n",
            "weighted avg       0.87      0.86      0.86      2829\n",
            "\n"
          ]
        }
      ]
    },
    {
      "cell_type": "markdown",
      "source": [
        "Comparison between the two Implementations"
      ],
      "metadata": {
        "id": "qTTUeHYD42ng"
      }
    },
    {
      "cell_type": "markdown",
      "source": [
        "Both inbuilt and own implementation gave almost similar accuracies of around\n",
        "0.86 which is pretty good and can be improved by adding some more features...but it may increase the complexity.....Although the precision is almost consistent for all classes,the recall varied significantly from medium to high."
      ],
      "metadata": {
        "id": "F8qIoDma5kNk"
      }
    }
  ]
}